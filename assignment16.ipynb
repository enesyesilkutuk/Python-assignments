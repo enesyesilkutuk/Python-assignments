{
  "nbformat": 4,
  "nbformat_minor": 0,
  "metadata": {
    "colab": {
      "name": "assignment16.ipynb",
      "provenance": [],
      "collapsed_sections": [],
      "authorship_tag": "ABX9TyNUyxoGnL5+W9iBB/oz2xFh",
      "include_colab_link": true
    },
    "kernelspec": {
      "name": "python3",
      "display_name": "Python 3"
    },
    "language_info": {
      "name": "python"
    }
  },
  "cells": [
    {
      "cell_type": "markdown",
      "metadata": {
        "id": "view-in-github",
        "colab_type": "text"
      },
      "source": [
        "<a href=\"https://colab.research.google.com/github/enesyesilkutuk/Python-assignments/blob/main/assignment16.ipynb\" target=\"_parent\"><img src=\"https://colab.research.google.com/assets/colab-badge.svg\" alt=\"Open In Colab\"/></a>"
      ]
    },
    {
      "cell_type": "code",
      "execution_count": 1,
      "metadata": {
        "colab": {
          "base_uri": "https://localhost:8080/"
        },
        "id": "EsiNvftNAlaf",
        "outputId": "ba29ebf7-c839-4dbf-e717-52f30bf38aaf"
      },
      "outputs": [
        {
          "output_type": "stream",
          "name": "stdout",
          "text": [
            "Enter your sentence: hippo runs to us!\n",
            "{'u': 2, 'i': 1, 'o': 2, 's': 2, 't': 1, ' ': 3, 'r': 1, '!': 1, 'h': 1, 'p': 2, 'n': 1}\n"
          ]
        }
      ],
      "source": [
        "sentence = input(\"Enter your sentence: \")\n",
        "keys = set(sentence)\n",
        "result = dict()\n",
        "for i in keys:\n",
        "    result.update({i : sentence.count(i)})\n",
        "    \n",
        "print(result)"
      ]
    }
  ]
}