{
  "nbformat": 4,
  "nbformat_minor": 0,
  "metadata": {
    "colab": {
      "name": "assignment12.ipynb",
      "provenance": [],
      "authorship_tag": "ABX9TyO8gXIoorF737wP5V30edDK",
      "include_colab_link": true
    },
    "kernelspec": {
      "name": "python3",
      "display_name": "Python 3"
    },
    "language_info": {
      "name": "python"
    }
  },
  "cells": [
    {
      "cell_type": "markdown",
      "metadata": {
        "id": "view-in-github",
        "colab_type": "text"
      },
      "source": [
        "<a href=\"https://colab.research.google.com/github/enesyesilkutuk/Python-assignments/blob/main/assignment12.ipynb\" target=\"_parent\"><img src=\"https://colab.research.google.com/assets/colab-badge.svg\" alt=\"Open In Colab\"/></a>"
      ]
    },
    {
      "cell_type": "code",
      "metadata": {
        "colab": {
          "base_uri": "https://localhost:8080/"
        },
        "id": "BxoUg4iNt63G",
        "outputId": "1505a0df-fc6b-4aba-854d-7b048b11fd12"
      },
      "source": [
        "number = int(input(\"Enter a positive number: \"))\n",
        "\n",
        "if number == 2 :\n",
        "    print(f\"{number} is a prime number!!!\")\n",
        "    \n",
        "for i in range(2,number):\n",
        "    if (str(number/i))[-1] == \"0\" and (str(number/i))[-2] == \".\" :\n",
        "        print(f\"{number} is not a prime number!!!\")\n",
        "        break\n",
        "     \n",
        "    elif i == number - 1 :\n",
        "        print(f\"{number} is a prime number!!!\")\n",
        "        break       "
      ],
      "execution_count": 2,
      "outputs": [
        {
          "output_type": "stream",
          "name": "stdout",
          "text": [
            "Enter a positive number: 37\n",
            "37 is a prime number!!!\n"
          ]
        }
      ]
    }
  ]
}