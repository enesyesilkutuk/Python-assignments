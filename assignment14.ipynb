{
  "nbformat": 4,
  "nbformat_minor": 0,
  "metadata": {
    "colab": {
      "name": "assignment14.ipynb",
      "provenance": [],
      "collapsed_sections": [],
      "authorship_tag": "ABX9TyMOYfPIYHUcraFtn8SU6fuj",
      "include_colab_link": true
    },
    "kernelspec": {
      "name": "python3",
      "display_name": "Python 3"
    },
    "language_info": {
      "name": "python"
    }
  },
  "cells": [
    {
      "cell_type": "markdown",
      "metadata": {
        "id": "view-in-github",
        "colab_type": "text"
      },
      "source": [
        "<a href=\"https://colab.research.google.com/github/enesyesilkutuk/Python-assignments/blob/main/assignment14.ipynb\" target=\"_parent\"><img src=\"https://colab.research.google.com/assets/colab-badge.svg\" alt=\"Open In Colab\"/></a>"
      ]
    },
    {
      "cell_type": "code",
      "metadata": {
        "colab": {
          "base_uri": "https://localhost:8080/"
        },
        "id": "z-y7wQzdxr1O",
        "outputId": "01eafaca-4c93-4635-a4ec-43222543461c"
      },
      "source": [
        "number = int(input(\"Enter a number: \"))\n",
        "prime_list = list()\n",
        "\n",
        "for i in range(2,number+1):\n",
        "    counter = 0\n",
        "    for j in range(2,i+1):\n",
        "        if i == 2 and j == 2:\n",
        "            prime_list.append(i)\n",
        "            break\n",
        "        elif i % j == 0 :\n",
        "            counter += 1\n",
        "        \n",
        "    if counter == 1:\n",
        "        prime_list.append(i)\n",
        "        \n",
        "print(prime_list)"
      ],
      "execution_count": 1,
      "outputs": [
        {
          "output_type": "stream",
          "name": "stdout",
          "text": [
            "Enter a number: 100\n",
            "[2, 3, 5, 7, 11, 13, 17, 19, 23, 29, 31, 37, 41, 43, 47, 53, 59, 61, 67, 71, 73, 79, 83, 89, 97]\n"
          ]
        }
      ]
    }
  ]
}