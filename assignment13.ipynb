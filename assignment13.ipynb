{
  "nbformat": 4,
  "nbformat_minor": 0,
  "metadata": {
    "colab": {
      "name": "assignment13.ipynb",
      "provenance": [],
      "collapsed_sections": [],
      "authorship_tag": "ABX9TyM1ou1BEmsctRcvwKVZw7gr",
      "include_colab_link": true
    },
    "kernelspec": {
      "name": "python3",
      "display_name": "Python 3"
    },
    "language_info": {
      "name": "python"
    }
  },
  "cells": [
    {
      "cell_type": "markdown",
      "metadata": {
        "id": "view-in-github",
        "colab_type": "text"
      },
      "source": [
        "<a href=\"https://colab.research.google.com/github/enesyesilkutuk/Python-assignments/blob/main/assignment13.ipynb\" target=\"_parent\"><img src=\"https://colab.research.google.com/assets/colab-badge.svg\" alt=\"Open In Colab\"/></a>"
      ]
    },
    {
      "cell_type": "code",
      "metadata": {
        "colab": {
          "base_uri": "https://localhost:8080/"
        },
        "id": "acmMgxaVwv9u",
        "outputId": "9e553664-f7b3-4693-fbc9-702bb0924cfd"
      },
      "source": [
        "array =[]\n",
        "for i in range(1,3) :\n",
        "    if i == 1 :\n",
        "        array.append(i)\n",
        "        array.append(i)\n",
        "        i += 1\n",
        "        array.append(i)\n",
        "    \n",
        "    elif i == 2 :\n",
        "        break       \n",
        "        \n",
        "y = int(input(\"Bir sayı giriniz: \"))\n",
        "for x in range(2,y):\n",
        "    element = array[x] + array[x-1] \n",
        "    array.append(element)\n",
        "\n",
        "print(array)"
      ],
      "execution_count": null,
      "outputs": [
        {
          "output_type": "stream",
          "name": "stdout",
          "text": [
            "Bir sayı giriniz: 9\n",
            "[1, 1, 2, 3, 5, 8, 13, 21, 34, 55]\n"
          ]
        }
      ]
    }
  ]
}